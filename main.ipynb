{
 "cells": [
  {
   "cell_type": "code",
   "execution_count": 1,
   "metadata": {},
   "outputs": [],
   "source": [
    "from chains import complexity_eval_chain, hints_generation_chain, coverage_chain\n",
    "from utils import json_parser"
   ]
  },
  {
   "cell_type": "code",
   "execution_count": 7,
   "metadata": {},
   "outputs": [],
   "source": [
    "# create Chroma vector database from Python documentation\n",
    "%run create_database.py"
   ]
  },
  {
   "cell_type": "markdown",
   "metadata": {},
   "source": [
    "## Overall Pass"
   ]
  },
  {
   "cell_type": "markdown",
   "metadata": {},
   "source": [
    "```mermaid\n",
    "flowchart LR\n",
    "    subgraph Hints Generation\n",
    "        direction LR\n",
    "        chain2[Chain2: Hints Generator]\n",
    "        chain1[Chain1: Complexity Evaluator] --> |Number of Hints| chain2\n",
    "        rag1[(Knowledge Data)] --> |Context| chain2\n",
    "    end\n",
    "    subgraph Similarity Search\n",
    "        direction LR\n",
    "        rag2[(Forbidden Data)]\n",
    "    end\n",
    "    subgraph Trimming by Similarity\n",
    "        rag2 --> |Similarity| trimming\n",
    "        chain2 --> |Hints| trimming\n",
    "    end\n",
    "    input[/question/] -->  chain1\n",
    "    input --> |Question| chain2\n",
    "    input --> |Question| rag1\n",
    "    input --> |Question| rag2\n",
    "    trimming --> output[/Trimmed Hints/]\n",
    "```"
   ]
  },
  {
   "cell_type": "markdown",
   "metadata": {},
   "source": [
    "## Hints Generation"
   ]
  },
  {
   "cell_type": "markdown",
   "metadata": {},
   "source": [
    "LLM Inference:\n",
    "   1. Chain1: Determine optimal number of steps of hints\n",
    "\n",
    "   2. Chain2: Generate hints\n",
    "\n",
    "Variants:\n",
    " - Hints type:\n",
    "    - Progressive\n",
    "    - Standalone\n",
    " - Use of RAG:\n",
    "    - No RAG\n",
    "    - Use general knowledge base (Python documentation, GitHub Repo, textbook, etc.)\n",
    "    - Use specific knowledge base (Course materials)\n",
    "\n",
    "Current implementation:\n",
    " - Progressive hints\n",
    " - Only use Python documentation as knowledge base"
   ]
  },
  {
   "cell_type": "code",
   "execution_count": 2,
   "metadata": {},
   "outputs": [],
   "source": [
    "def hints_generator(question):\n",
    "    num_hints = complexity_eval_chain().invoke(question)\n",
    "    output_parser = json_parser(num_hints)\n",
    "\n",
    "    response = hints_generation_chain().invoke(\n",
    "        {\n",
    "            \"question\": question,\n",
    "            \"num_hints\": num_hints,\n",
    "            \"format_instructions\": output_parser.get_format_instructions(),\n",
    "        }\n",
    "    )\n",
    "\n",
    "    parsered_response = output_parser.invoke(response)  # parser to json format\n",
    "\n",
    "    return parsered_response"
   ]
  },
  {
   "cell_type": "code",
   "execution_count": 9,
   "metadata": {},
   "outputs": [
    {
     "data": {
      "application/json": {
       "Hint1": "Begin by understanding the purpose of the Rabin-Miller algorithm. It's a primality test, which means it helps determine if a number is prime or not. This algorithm is probabilistic, offering a high degree of accuracy.",
       "Hint2": "The Rabin-Miller algorithm relies on the concept of modular exponentiation and the property that for a prime number p, certain equations must hold true. A key part of the algorithm involves repeatedly checking these conditions for different bases (a's).",
       "Hint3": "To implement the algorithm in Python, start by writing a function for modular exponentiation. This function calculates (base^exponent) % modulus efficiently. Then, implement the main part of the Rabin-Miller test, which involves decomposing the number to be tested (n-1) into 2^s * d and repeatedly checking if either (a^d) % n == 1 or (a^(2^r * d)) % n == n-1 for any r between 0 and s-1.",
       "Hint4": "Here's a simplified version of the Rabin-Miller algorithm in Python:\n```Python\nimport random\n\ndef modular_exponentiation(base, exponent, modulus):\n    result = 1\n    base = base % modulus\n    while exponent > 0:\n        if exponent % 2 == 1:\n           result = (result * base) % modulus\n        exponent = exponent >> 1\n        base = (base * base) % modulus\n    return result\n\ndef rabin_miller(n, k):\n    if n == 2 or n == 3:\n        return True\n    if n <= 1 or n % 2 == 0:\n        return False\n    d = n - 1\n    s = 0\n    while d % 2 == 0:\n        d //= 2\n        s += 1\n    for _ in range(k):\n        a = random.randint(2, n - 2)\n        x = modular_exponentiation(a, d, n)\n        if x == 1 or x == n - 1:\n            continue\n        for _ in range(s - 1):\n            x = modular_exponentiation(x, 2, n)\n            if x == n - 1:\n                break\n        else:\n            return False\n    return True\n```\nThis code defines a basic implementation of the Rabin-Miller primality test. The `k` parameter determines the accuracy of the test. The higher the `k`, the more accurate the test."
      },
      "text/plain": [
       "<IPython.core.display.JSON object>"
      ]
     },
     "execution_count": 9,
     "metadata": {
      "application/json": {
       "expanded": false,
       "root": "root"
      }
     },
     "output_type": "execute_result"
    }
   ],
   "source": [
    "from IPython.display import JSON\n",
    "\n",
    "question = \"How to implement Rabin-Miller Algorithm in Python?\"\n",
    "response = hints_generator(question)\n",
    "\n",
    "JSON(response)"
   ]
  },
  {
   "cell_type": "markdown",
   "metadata": {},
   "source": [
    "### Hints Coverage Estimate"
   ]
  },
  {
   "cell_type": "markdown",
   "metadata": {},
   "source": [
    "Use another LLM chain to estimate the coverage of hints. \n",
    "\n",
    "Only for sanity check, not used in any chains."
   ]
  },
  {
   "cell_type": "code",
   "execution_count": 10,
   "metadata": {},
   "outputs": [
    {
     "name": "stdout",
     "output_type": "stream",
     "text": [
      "Hint1: 0.20\n",
      "Hint1 to Hint2: 0.70\n",
      "Hint1 to Hint3: 0.90\n",
      "Hint1 to Hint4: 0.95\n"
     ]
    }
   ],
   "source": [
    "response_list = list(response.items())\n",
    "\n",
    "for i, (key, value) in enumerate(response_list):\n",
    "    coverage = coverage_chain().invoke(\n",
    "        {\"question\": question, \"hints\": [x for _, x in response_list[: i + 1]]}\n",
    "    )\n",
    "    hint_label = f\"Hint1 to {key}\" if i != 0 else \"Hint1\"\n",
    "    print(f\"{hint_label}: {float(coverage):.2f}\")"
   ]
  },
  {
   "cell_type": "markdown",
   "metadata": {},
   "source": [
    "## Trimming by Similarity"
   ]
  },
  {
   "cell_type": "markdown",
   "metadata": {},
   "source": [
    "Check the similarity between the question and the data base. Lower score means higher similarity.\n",
    "\n",
    "Currently the example data `example.py` only contains an implementation of Rabin-Miller algorithm."
   ]
  },
  {
   "cell_type": "code",
   "execution_count": 11,
   "metadata": {},
   "outputs": [],
   "source": [
    "from langchain_openai import OpenAIEmbeddings\n",
    "from langchain_community.vectorstores import Chroma\n",
    "from langchain.text_splitter import CharacterTextSplitter\n",
    "from langchain_community.document_loaders import TextLoader\n",
    "\n",
    "loader = TextLoader(\"data/forbidden/example.py\")\n",
    "docs = loader.load()\n",
    "\n",
    "text_splitter = CharacterTextSplitter(chunk_size=1000, chunk_overlap=0)\n",
    "\n",
    "db = Chroma.from_documents(docs, OpenAIEmbeddings())"
   ]
  },
  {
   "cell_type": "code",
   "execution_count": 12,
   "metadata": {},
   "outputs": [],
   "source": [
    "def score(question, db=db):\n",
    "    return db.similarity_search_with_score(question, k=1)[0][1]"
   ]
  },
  {
   "cell_type": "markdown",
   "metadata": {},
   "source": [
    "### Examples"
   ]
  },
  {
   "cell_type": "markdown",
   "metadata": {},
   "source": [
    "**Irrelavant Questions**"
   ]
  },
  {
   "cell_type": "code",
   "execution_count": 13,
   "metadata": {},
   "outputs": [
    {
     "name": "stdout",
     "output_type": "stream",
     "text": [
      "0.6633617877960205\n",
      "0.5506045818328857\n"
     ]
    }
   ],
   "source": [
    "print(score(\"How to implement merge sort in Python?\"))\n",
    "print(score(\"How to calculate the factorial of a number in Python?\"))"
   ]
  },
  {
   "cell_type": "markdown",
   "metadata": {},
   "source": [
    "**Relavant Questions**"
   ]
  },
  {
   "cell_type": "code",
   "execution_count": 14,
   "metadata": {},
   "outputs": [
    {
     "name": "stdout",
     "output_type": "stream",
     "text": [
      "0.4117549657821655\n",
      "0.45251935720443726\n"
     ]
    }
   ],
   "source": [
    "print(score(\"How to implement Rabin-Miller prime test in Python?\"))\n",
    "print(score(\"What is the time complexity of Rabin-Miller prime test in Python?\"))"
   ]
  },
  {
   "cell_type": "markdown",
   "metadata": {},
   "source": [
    "**Somewhat Relavant Questions**"
   ]
  },
  {
   "cell_type": "code",
   "execution_count": 15,
   "metadata": {},
   "outputs": [
    {
     "name": "stdout",
     "output_type": "stream",
     "text": [
      "0.49737662076950073\n",
      "0.46665626764297485\n"
     ]
    }
   ],
   "source": [
    "print(score(\"How to test primality of a number using AKS in Python?\"))\n",
    "print(score(\"Write a function to generate prime numbers in Python.\"))"
   ]
  },
  {
   "cell_type": "markdown",
   "metadata": {},
   "source": [
    "### Trimming"
   ]
  },
  {
   "cell_type": "code",
   "execution_count": 165,
   "metadata": {},
   "outputs": [],
   "source": [
    "def hints_to_reveal(question, hints, db=db):\n",
    "    similarity = db.similarity_search_with_score(question, k=1)[0][1]\n",
    "    if similarity <= 0.4:\n",
    "        # For very similar questions, reveal a smaller fraction of hints\n",
    "        fraction_of_hints = 0.5\n",
    "    elif similarity > 0.4 and similarity <= 0.6:\n",
    "        # For somewhat similar questions, reveal more hints\n",
    "        fraction_of_hints = 0.5 + (similarity - 0.4) * (0.5 / 0.2)\n",
    "    else:\n",
    "        # For very different questions, reveal all hints\n",
    "        fraction_of_hints = 1\n",
    "\n",
    "    num_hints_to_reveal = int(len(hints) * fraction_of_hints)\n",
    "    hints_to_give = \" \".join(hints[:num_hints_to_reveal])\n",
    "    return hints_to_give"
   ]
  },
  {
   "cell_type": "code",
   "execution_count": 168,
   "metadata": {},
   "outputs": [
    {
     "name": "stdout",
     "output_type": "stream",
     "text": [
      "Begin by understanding the purpose of the Rabin-Miller algorithm. It's a primality test, which means it helps determine if a number is prime or not. This algorithm is probabilistic, offering a high degree of accuracy. The Rabin-Miller algorithm relies on the concept of modular exponentiation and the property that for a prime number p, certain equations must hold true. A key part of the algorithm involves repeatedly checking these conditions for different bases (a random number less than p).\n"
     ]
    }
   ],
   "source": [
    "question = \"How to implement Rabin-Miller Algorithm in Python?\"\n",
    "response = hints_generator(question)\n",
    "hints = [x for _, x in list(response.items())]\n",
    "\n",
    "print(hints_to_reveal(question, hints))"
   ]
  },
  {
   "cell_type": "code",
   "execution_count": 169,
   "metadata": {},
   "outputs": [
    {
     "name": "stdout",
     "output_type": "stream",
     "text": [
      "Begin by understanding the concept of 'divide and conquer' in algorithm design. Merge sort is a classic example of this approach, where the problem is divided into smaller, more manageable sub-problems. The first step in implementing merge sort is to divide the list into two halves. This can be done by finding the midpoint of the list and then splitting the list into left and right sublists. After dividing the list, the next step is to recursively sort both the left and right sublists. This means applying the merge sort algorithm to each sublist until they are small enough to be considered sorted (typically when the sublist has only one element). Once the sublists are sorted, the next step is to merge them back together. This involves comparing the elements of the sublists and combining them in a sorted manner. This step is crucial for the 'conquer' part of the 'divide and conquer' strategy. Here's a basic implementation of merge sort in Python: ```Python\n",
      "def merge_sort(arr):\n",
      "    if len(arr) > 1:\n",
      "        mid = len(arr)//2\n",
      "        L = arr[:mid]\n",
      "        R = arr[mid:]\n",
      "\n",
      "        merge_sort(L)\n",
      "        merge_sort(R)\n",
      "\n",
      "        i = j = k = 0\n",
      "\n",
      "        while i < len(L) and j < len(R):\n",
      "            if L[i] < R[j]:\n",
      "                arr[k] = L[i]\n",
      "                i += 1\n",
      "            else:\n",
      "                arr[k] = R[j]\n",
      "                j += 1\n",
      "            k += 1\n",
      "\n",
      "        while i < len(L):\n",
      "            arr[k] = L[i]\n",
      "            i += 1\n",
      "            k += 1\n",
      "\n",
      "        while j < len(R):\n",
      "            arr[k] = R[j]\n",
      "            j += 1\n",
      "            k += 1\n",
      "    return arr\n",
      "``` This code first divides the list into sublists, recursively sorts these sublists, and then merges them back together in a sorted order. The key to understanding merge sort is grasping the recursive nature of the algorithm and the merge process.\n"
     ]
    }
   ],
   "source": [
    "question = \"How to implement merge sort in Python?\"\n",
    "response = hints_generator(question)\n",
    "hints = [x for _, x in list(response.items())]\n",
    "\n",
    "print(hints_to_reveal(question, hints))"
   ]
  }
 ],
 "metadata": {
  "kernelspec": {
   "display_name": ".venv",
   "language": "python",
   "name": "python3"
  },
  "language_info": {
   "codemirror_mode": {
    "name": "ipython",
    "version": 3
   },
   "file_extension": ".py",
   "mimetype": "text/x-python",
   "name": "python",
   "nbconvert_exporter": "python",
   "pygments_lexer": "ipython3",
   "version": "3.11.6"
  }
 },
 "nbformat": 4,
 "nbformat_minor": 2
}
